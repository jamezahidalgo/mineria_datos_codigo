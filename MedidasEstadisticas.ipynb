{
  "nbformat": 4,
  "nbformat_minor": 0,
  "metadata": {
    "colab": {
      "name": "MedidasEstadisticas.ipynb",
      "provenance": []
    },
    "kernelspec": {
      "name": "python3",
      "display_name": "Python 3"
    },
    "language_info": {
      "name": "python"
    }
  },
  "cells": [
    {
      "cell_type": "code",
      "metadata": {
        "colab": {
          "base_uri": "https://localhost:8080/"
        },
        "id": "afGUb3Pit1Jr",
        "outputId": "e32b5606-d459-400e-a394-98dab7bc06e6"
      },
      "source": [
        "import random\n",
        "random.seed(29)\n",
        "edades = range(17,66)\n",
        "muestra = random.sample(edades, 30)\n",
        "print(muestra)"
      ],
      "execution_count": 9,
      "outputs": [
        {
          "output_type": "stream",
          "text": [
            "[52, 21, 39, 55, 62, 35, 22, 49, 63, 42, 43, 18, 19, 23, 45, 31, 57, 59, 32, 27, 36, 34, 30, 40, 65, 50, 48, 24, 61, 37]\n"
          ],
          "name": "stdout"
        }
      ]
    },
    {
      "cell_type": "code",
      "metadata": {
        "colab": {
          "base_uri": "https://localhost:8080/"
        },
        "id": "39oTzA2B0Iso",
        "outputId": "1322e502-7622-4365-a417-177df9e43af8"
      },
      "source": [
        "import numpy as np\n",
        "print(\"Media    :\", np.mean(muestra))\n",
        "print(\"Mediana  :\", np.median(muestra))\n",
        "print(\"Varianza :\", np.var(muestra))\n",
        "print(\"Desviación estándar :\", np.std(muestra))\n",
        "print(\"Desviación estándar * :\", np.sqrt(np.var(muestra)))"
      ],
      "execution_count": 18,
      "outputs": [
        {
          "output_type": "stream",
          "text": [
            "Media    : 40.63333333333333\n",
            "Mediana  : 39.5\n",
            "Varianza : 200.8322222222222\n",
            "Desviación estándar : 14.171528577476115\n",
            "Desviación estándar * : 14.171528577476115\n"
          ],
          "name": "stdout"
        }
      ]
    },
    {
      "cell_type": "code",
      "metadata": {
        "colab": {
          "base_uri": "https://localhost:8080/"
        },
        "id": "MXZsqW9A0F0_",
        "outputId": "e6ef09c2-cebd-40f6-fe7f-56f46094a008"
      },
      "source": [
        "# Medidas de posición\n",
        "print(np.percentile(muestra, 50))"
      ],
      "execution_count": 22,
      "outputs": [
        {
          "output_type": "stream",
          "text": [
            "39.5\n"
          ],
          "name": "stdout"
        }
      ]
    }
  ]
}